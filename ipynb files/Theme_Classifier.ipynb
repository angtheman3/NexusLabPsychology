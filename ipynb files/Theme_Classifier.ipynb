{
 "cells": [
  {
   "cell_type": "markdown",
   "id": "ad63a892-abce-4ac3-aa11-b9085c78a016",
   "metadata": {},
   "source": [
    "### Theme Classifier"
   ]
  },
  {
   "cell_type": "code",
   "execution_count": null,
   "id": "1a462c06-eabc-41ee-8379-f434ff739b57",
   "metadata": {},
   "outputs": [],
   "source": []
  }
 ],
 "metadata": {
  "kernelspec": {
   "display_name": "Python 3",
   "language": "python",
   "name": "python3"
  },
  "language_info": {
   "codemirror_mode": {
    "name": "ipython",
    "version": 3
   },
   "file_extension": ".py",
   "mimetype": "text/x-python",
   "name": "python",
   "nbconvert_exporter": "python",
   "pygments_lexer": "ipython3",
   "version": "3.8.8"
  }
 },
 "nbformat": 4,
 "nbformat_minor": 5
}
